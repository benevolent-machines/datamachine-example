{
  "nbformat": 4,
  "nbformat_minor": 0,
  "metadata": {
    "colab": {
      "provenance": [],
      "include_colab_link": true
    },
    "kernelspec": {
      "name": "python3",
      "display_name": "Python 3"
    },
    "language_info": {
      "name": "python"
    }
  },
  "cells": [
    {
      "cell_type": "markdown",
      "metadata": {
        "id": "view-in-github",
        "colab_type": "text"
      },
      "source": [
        "<a href=\"https://colab.research.google.com/github/benevolent-machines/datamachine-example/blob/main/library_example.ipynb\" target=\"_parent\"><img src=\"https://colab.research.google.com/assets/colab-badge.svg\" alt=\"Open In Colab\"/></a>"
      ]
    },
    {
      "cell_type": "markdown",
      "source": [
        "<div>\n",
        "<img height=64 src=\"https://storage.googleapis.com/benevolentmachines/bm_full2.svg\">\n",
        "</div>"
      ],
      "metadata": {
        "id": "A6Bez6k6WAzk"
      }
    },
    {
      "cell_type": "code",
      "source": [
        "LIBRARY = 'benevolent'\n",
        "NOTEBOOKS = {\n",
        "    'basic': {\n",
        "        'path': 'https://colab.research.google.com/drive/1vROITtpKbQVVBm5lkz3B6wjhkTUJuCdh',\n",
        "        'code': 'basic',\n",
        "        \"kind\": \"execute\",\n",
        "    },\n",
        "    'npanalytics': {\n",
        "        'desc': 'Nonprofit Public Analytics',\n",
        "        'path': 'https://colab.research.google.com/drive/1y7x3BDkmaz6k93QjENanKHudLV8xB96Q',\n",
        "        'code': 'npa',\n",
        "        \"kind\": \"module\",\n",
        "    },\n",
        "    'fam': {\n",
        "        'desc': 'Fundraising Analytics Machine Module',\n",
        "        'path': 'https://colab.research.google.com/drive/1LXEUKmvrr6CQIfP_noS1tYWJvp7XSEnM',\n",
        "        'code': 'fam',\n",
        "        \"kind\": \"module\",\n",
        "    },\n",
        "    'famex': {\n",
        "        'desc': 'Fundraising Analytics Machine Execute',\n",
        "        'path': 'https://colab.research.google.com/drive/18WNW04hIawPeP3veHuHu8_PfGcJucuEg',\n",
        "        'code': 'famex',\n",
        "        \"kind\": \"execute\",\n",
        "    },\n",
        "    'dpanalytics': {\n",
        "        'desc': 'DonorPerfect Analytics',\n",
        "        'path': 'https://colab.research.google.com/drive/1veITg2KelYrt3FP_JCkF0_R5AQ6n7g7Z',\n",
        "        'code': 'dpa',\n",
        "        \"kind\": \"module\",\n",
        "    },\n",
        "}\n"
      ],
      "metadata": {
        "id": "uDV0cHBXefLI"
      },
      "execution_count": null,
      "outputs": []
    }
  ]
}