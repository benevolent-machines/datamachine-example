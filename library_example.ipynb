{
  "nbformat": 4,
  "nbformat_minor": 0,
  "metadata": {
    "colab": {
      "provenance": [],
      "include_colab_link": true
    },
    "kernelspec": {
      "name": "python3",
      "display_name": "Python 3"
    },
    "language_info": {
      "name": "python"
    }
  },
  "cells": [
    {
      "cell_type": "markdown",
      "metadata": {
        "id": "view-in-github",
        "colab_type": "text"
      },
      "source": [
        "<a href=\"https://colab.research.google.com/github/benevolent-machines/datamachine-example/blob/main/library_example.ipynb\" target=\"_parent\"><img src=\"https://colab.research.google.com/assets/colab-badge.svg\" alt=\"Open In Colab\"/></a>"
      ]
    },
    {
      "cell_type": "code",
      "source": [
        "site = 'https://benevolent-machines.github.io/datamachine-example'\n",
        "LIBRARY = 'benevolent'\n",
        "NOTEBOOKS = {\n",
        "    'npanalytics': {\n",
        "        'desc': 'Nonprofit Public Analytics',\n",
        "        'path': f'{site}/module_example.ipynb',\n",
        "        'code': 'npa',\n",
        "        \"kind\": \"module\",\n",
        "    },\n",
        "}"
      ],
      "metadata": {
        "id": "uDV0cHBXefLI"
      },
      "execution_count": null,
      "outputs": []
    }
  ]
}