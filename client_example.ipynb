{
  "nbformat": 4,
  "nbformat_minor": 0,
  "metadata": {
    "colab": {
      "provenance": [],
      "authorship_tag": "ABX9TyMK6gFpiE1BAmOUa4pyI8Zm",
      "include_colab_link": true
    },
    "kernelspec": {
      "name": "python3",
      "display_name": "Python 3"
    },
    "language_info": {
      "name": "python"
    }
  },
  "cells": [
    {
      "cell_type": "markdown",
      "metadata": {
        "id": "view-in-github",
        "colab_type": "text"
      },
      "source": [
        "<a href=\"https://colab.research.google.com/github/benevolent-machines/datamachine-example/blob/main/client_example.ipynb\" target=\"_parent\"><img src=\"https://colab.research.google.com/assets/colab-badge.svg\" alt=\"Open In Colab\"/></a>"
      ]
    },
    {
      "cell_type": "code",
      "execution_count": null,
      "metadata": {
        "id": "uUL-nDJcztf6"
      },
      "outputs": [],
      "source": [
        "%pip install datamachine"
      ]
    },
    {
      "cell_type": "code",
      "source": [
        "import datamachine as dm\n",
        "site = 'https://benevolent-machines.github.io/datamachine-example'"
      ],
      "metadata": {
        "id": "goQofZQczxdH"
      },
      "execution_count": 2,
      "outputs": []
    },
    {
      "cell_type": "code",
      "source": [
        "url = f'{site}/module_example.ipynb'\n",
        "npa1 = dm.import_notebook(url)\n",
        "npa1.monthly_rulings()"
      ],
      "metadata": {
        "id": "Ze7SRRkhz3GR"
      },
      "execution_count": null,
      "outputs": []
    },
    {
      "cell_type": "code",
      "source": [
        "lib = f'{site}/library_example.ipynb'\n",
        "npa2 = dm.import_notebook('npanalytics',library=lib)\n",
        "npa2.monthly_rulings()"
      ],
      "metadata": {
        "id": "gdi5GllZ023b"
      },
      "execution_count": null,
      "outputs": []
    }
  ]
}